{
 "cells": [
  {
   "cell_type": "code",
   "execution_count": 1,
   "metadata": {},
   "outputs": [
    {
     "name": "stdout",
     "output_type": "stream",
     "text": [
      "Welcome to cptac, a python package for disseminating cancer\n",
      "proteogenomics data. To view available datasets, enter\n",
      "'cptac.list_data()'. Extensive tutorials are available at\n",
      "https://github.com/PayneLab/cptac/tree/master/doc\n",
      "\n",
      "******\n",
      "Version: 0.4.5\n",
      "******\n",
      "Checking that data files are up-to-date...\n",
      "\n",
      "Data check complete.\n",
      "ovarian data version: Most recent release\n",
      "\n",
      "Loading clinical data...\n",
      "Loading cnv data...\n",
      "Loading definitions data...\n",
      "Loading phosphoproteomics data...\n",
      "Loading proteomics data...\n",
      "Loading somatic_38 data...\n",
      "Loading transcriptomics data...\n",
      "Loading treatment data...\n"
     ]
    }
   ],
   "source": [
    "%%capture\n",
    "%run /Users/amandaoliphant/Documents/GitHub/OvarianProspective/Protein_Complexes/Analysis_Functions.ipynb"
   ]
  },
  {
   "cell_type": "code",
   "execution_count": null,
   "metadata": {},
   "outputs": [],
   "source": []
  }
 ],
 "metadata": {
  "kernelspec": {
   "display_name": "Python 3",
   "language": "python",
   "name": "python3"
  },
  "language_info": {
   "codemirror_mode": {
    "name": "ipython",
    "version": 3
   },
   "file_extension": ".py",
   "mimetype": "text/x-python",
   "name": "python",
   "nbconvert_exporter": "python",
   "pygments_lexer": "ipython3",
   "version": "3.7.0"
  }
 },
 "nbformat": 4,
 "nbformat_minor": 2
}
